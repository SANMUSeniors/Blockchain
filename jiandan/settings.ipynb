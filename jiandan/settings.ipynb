{
 "cells": [
  {
   "cell_type": "code",
   "execution_count": 1,
   "metadata": {},
   "outputs": [],
   "source": [
    "BOT_NAME = 'jiandan'\n",
    "SPIDER_MODULES = ['jiandan.spiders']\n",
    "NEWSPIDER_MODULE = 'jiandan.spiders'\n",
    "ROBOTSTXT_OBEY = False\n",
    "LOG_FILE = \"flie_name\"#日志文件\n",
    "ITEM_PIPELINES = {'jidandan.pipelines.JiandanPipeline':300,'jidandan.pipelines.ImagesPipeline':1}\n",
    "#开启两个通道\n",
    "IMAGE_STORE='f:\\\\onlylady'#设置自己的存储路径\n",
    "#缩略图功能\n",
    "IMAGES_THUMBS = {'small':(50,50),'big':(200,200)}"
   ]
  },
  {
   "cell_type": "code",
   "execution_count": null,
   "metadata": {},
   "outputs": [],
   "source": []
  }
 ],
 "metadata": {
  "kernelspec": {
   "display_name": "Python 3",
   "language": "python",
   "name": "python3"
  },
  "language_info": {
   "codemirror_mode": {
    "name": "ipython",
    "version": 3
   },
   "file_extension": ".py",
   "mimetype": "text/x-python",
   "name": "python",
   "nbconvert_exporter": "python",
   "pygments_lexer": "ipython3",
   "version": "3.6.4"
  }
 },
 "nbformat": 4,
 "nbformat_minor": 2
}
