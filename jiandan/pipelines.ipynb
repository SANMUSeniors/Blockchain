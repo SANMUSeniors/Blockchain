{
 "cells": [
  {
   "cell_type": "code",
   "execution_count": 2,
   "metadata": {},
   "outputs": [
    {
     "name": "stderr",
     "output_type": "stream",
     "text": [
      "D:\\CloudMusic\\anaconda\\lib\\site-packages\\ipykernel_launcher.py:11: ScrapyDeprecationWarning: Module `scrapy.contrib.pipeline` is deprecated, use `scrapy.pipelines` instead\n",
      "  # This is added back by InteractiveShellApp.init_path()\n",
      "D:\\CloudMusic\\anaconda\\lib\\site-packages\\ipykernel_launcher.py:11: ScrapyDeprecationWarning: Module `scrapy.contrib.pipeline.images` is deprecated, use `scrapy.pipelines.images` instead\n",
      "  # This is added back by InteractiveShellApp.init_path()\n"
     ]
    },
    {
     "ename": "ModuleNotFoundError",
     "evalue": "No module named 'jiandan'",
     "output_type": "error",
     "traceback": [
      "\u001b[1;31m---------------------------------------------------------------------------\u001b[0m",
      "\u001b[1;31mModuleNotFoundError\u001b[0m                       Traceback (most recent call last)",
      "\u001b[1;32m<ipython-input-2-ecfadcf6e599>\u001b[0m in \u001b[0;36m<module>\u001b[1;34m()\u001b[0m\n\u001b[0;32m     11\u001b[0m \u001b[1;32mfrom\u001b[0m \u001b[0mscrapy\u001b[0m\u001b[1;33m.\u001b[0m\u001b[0mcontrib\u001b[0m\u001b[1;33m.\u001b[0m\u001b[0mpipeline\u001b[0m\u001b[1;33m.\u001b[0m\u001b[0mimages\u001b[0m \u001b[1;32mimport\u001b[0m \u001b[0mImagesPipeline\u001b[0m\u001b[1;33m\u001b[0m\u001b[0m\n\u001b[0;32m     12\u001b[0m \u001b[1;32mfrom\u001b[0m \u001b[0mscrapy\u001b[0m\u001b[1;33m.\u001b[0m\u001b[0mpipelines\u001b[0m\u001b[1;33m.\u001b[0m\u001b[0mimages\u001b[0m \u001b[1;32mimport\u001b[0m \u001b[0mImagesPipeline\u001b[0m\u001b[1;33m\u001b[0m\u001b[0m\n\u001b[1;32m---> 13\u001b[1;33m \u001b[1;32mfrom\u001b[0m \u001b[0mjiandan\u001b[0m \u001b[1;32mimport\u001b[0m \u001b[0msettings\u001b[0m\u001b[1;33m\u001b[0m\u001b[0m\n\u001b[0m\u001b[0;32m     14\u001b[0m \u001b[1;32mclass\u001b[0m \u001b[0mJidandanPipeline\u001b[0m\u001b[1;33m(\u001b[0m\u001b[0mobject\u001b[0m\u001b[1;33m)\u001b[0m\u001b[1;33m:\u001b[0m\u001b[1;31m#用来自定义图片存储\u001b[0m\u001b[1;33m\u001b[0m\u001b[0m\n\u001b[0;32m     15\u001b[0m     \u001b[1;32mdef\u001b[0m \u001b[0m__init__\u001b[0m\u001b[1;33m(\u001b[0m\u001b[0mself\u001b[0m\u001b[1;33m)\u001b[0m\u001b[1;33m:\u001b[0m\u001b[1;33m\u001b[0m\u001b[0m\n",
      "\u001b[1;31mModuleNotFoundError\u001b[0m: No module named 'jiandan'"
     ]
    }
   ],
   "source": [
    "##作者：蔷薇\n",
    "##链接：https://zhuanlan.zhihu.com/p/34812384\n",
    "##来源：知乎\n",
    "##著作权归作者所有。商业转载请联系作者获得授权，非商业转载请注明出处。\n",
    "import os\n",
    "import urllib\n",
    "import scrapy\n",
    "import json\n",
    "import codecs\n",
    "from scrapy.exceptions import DropItem\n",
    "from scrapy.contrib.pipeline.images import ImagesPipeline\n",
    "from scrapy.pipelines.images import ImagesPipeline\n",
    "from jiandan import settings\n",
    "class JidandanPipeline(object):#用来自定义图片存储\n",
    "    def __init__(self):\n",
    "        self.file = codecs.open('jiandan.json','w',encoding='utf-8')\n",
    "        #title是中文，需转码#当运行scrapy crawl onlylady -o items.json后,\n",
    "        #数据默认保存为items.json,里面中文全为Unicode,\n",
    "        #重新打开或创建一个文件'jiandan.json',名称随意 \n",
    "    def process_item(self,item,spider):\n",
    "        line = json.dumps(dict(item),ensure_ascii=False)+\"n\"\n",
    "        self.file.write(line)\n",
    "        return item\n",
    "    def spider_closed(self,spider):\n",
    "        self.file.close()\n",
    "\n",
    "class JiandanPipeline(ImagesPipeline):# 继承ImagesPipeline这个类，实现这个功能\n",
    "    def get_media_requests(self,item,info):\n",
    "        for image_url in item['image_urls']:\n",
    "            yield scrapy.Request(image_url,meta={'item':item})\n",
    "    def item_completed(self,results,item,info):\n",
    "        image_paths = [x['path'] for ok,x in results if ok]\n",
    "        if not image_paths:\n",
    "            raise DropItem(\"Item contains no images\")\n",
    "        return item\n",
    "    def file_path(self,request,response=None,info=None):#自定义存储路径\n",
    "        item = request.meta['item']#通过上面的meta传递过来的item\n",
    "        image_guid = request.url.split('/')[-1]\n",
    "        filename = u'full/{0}/{1}'.format(item['title'],image_guid)#title为二级目录\n",
    "        return filename\n",
    "            "
   ]
  },
  {
   "cell_type": "code",
   "execution_count": null,
   "metadata": {},
   "outputs": [],
   "source": []
  }
 ],
 "metadata": {
  "kernelspec": {
   "display_name": "Python 3",
   "language": "python",
   "name": "python3"
  },
  "language_info": {
   "codemirror_mode": {
    "name": "ipython",
    "version": 3
   },
   "file_extension": ".py",
   "mimetype": "text/x-python",
   "name": "python",
   "nbconvert_exporter": "python",
   "pygments_lexer": "ipython3",
   "version": "3.6.4"
  }
 },
 "nbformat": 4,
 "nbformat_minor": 2
}
