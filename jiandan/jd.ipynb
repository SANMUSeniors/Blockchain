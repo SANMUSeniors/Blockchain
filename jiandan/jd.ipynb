{
 "cells": [
  {
   "cell_type": "code",
   "execution_count": 3,
   "metadata": {},
   "outputs": [
    {
     "ename": "ModuleNotFoundError",
     "evalue": "No module named 'jiandan'",
     "output_type": "error",
     "traceback": [
      "\u001b[1;31m---------------------------------------------------------------------------\u001b[0m",
      "\u001b[1;31mModuleNotFoundError\u001b[0m                       Traceback (most recent call last)",
      "\u001b[1;32m<ipython-input-3-5f810ff9fc91>\u001b[0m in \u001b[0;36m<module>\u001b[1;34m()\u001b[0m\n\u001b[0;32m      1\u001b[0m \u001b[1;31m# _*_ coding:utf-8 _*_\u001b[0m\u001b[1;33m\u001b[0m\u001b[1;33m\u001b[0m\u001b[0m\n\u001b[0;32m      2\u001b[0m \u001b[1;32mimport\u001b[0m \u001b[0mscrapy\u001b[0m\u001b[1;33m\u001b[0m\u001b[0m\n\u001b[1;32m----> 3\u001b[1;33m \u001b[1;32mfrom\u001b[0m \u001b[0mjiandan\u001b[0m\u001b[1;33m.\u001b[0m\u001b[0mitems\u001b[0m \u001b[1;32mimport\u001b[0m \u001b[0mJiandanItem\u001b[0m\u001b[1;33m\u001b[0m\u001b[0m\n\u001b[0m\u001b[0;32m      4\u001b[0m \u001b[1;32mfrom\u001b[0m \u001b[0mscrapy\u001b[0m\u001b[1;33m.\u001b[0m\u001b[0mselector\u001b[0m \u001b[1;32mimport\u001b[0m \u001b[0mSelector\u001b[0m\u001b[1;33m\u001b[0m\u001b[0m\n\u001b[0;32m      5\u001b[0m \u001b[1;32mfrom\u001b[0m \u001b[0mscrapy\u001b[0m\u001b[1;33m.\u001b[0m\u001b[0mlinkextractors\u001b[0m \u001b[1;32mimport\u001b[0m \u001b[0mLinkExtractor\u001b[0m\u001b[1;33m\u001b[0m\u001b[0m\n",
      "\u001b[1;31mModuleNotFoundError\u001b[0m: No module named 'jiandan'"
     ]
    }
   ],
   "source": [
    "# _*_ coding:utf-8 _*_\n",
    "import scrapy\n",
    "from jiandan.items import JiandanItem\n",
    "from scrapy.selector import Selector\n",
    "from scrapy.linkextractors import LinkExtractor\n",
    "from scrapy.http import HtmlResponse,Request\n",
    "import logging\n",
    "class jiandanSpider(scrapy.Spider):\n",
    "    name = 'onlylady'#名字可调\n",
    "    allowed_domains = ['onlylady.com']\n",
    "    star_urls = [\"http://pic.onlylady.com/cate-10004_50_3.shtml\",\"http://pic.onlylady.com/cate-10004_50_3.shtml\",\"http://pic.onlylady.com/cate-10004_50_3.shtml\",\"http://pic.onlylady.com/cate-10004_50_3.shtml\"]\n",
    "    def parse(self,response):\n",
    "        imageurl = []\n",
    "        item = JiandanItem()\n",
    "        item['title']=''.join(response.xpath('//head/title/text()').extract()[0])#根据xpath获取title，此处 ''.join()是为了在后面为图片自定义名称时使用,若不加''.join(),后面调用item['title']会得到Unicode码\n",
    "        imageurl = response.xpath('//img/@src').extract()# 提取图片链接\n",
    "        item['image_urls']=[i.replace('375x375','985x695') for i in imageurl]#小图转大图链接\n",
    "        yield item\n",
    "        n_url = response.xpath('//a[@class=\"n\"]//@href').extract_first()#翻页\n",
    "        if new_url:\n",
    "            yield scrapy.Request(new_url,callback = self.page)#根据scrapy爬虫流程，回调函数用来把new_url传到调度器生成request\n",
    "\n",
    "\n",
    "\n",
    "        "
   ]
  },
  {
   "cell_type": "code",
   "execution_count": null,
   "metadata": {},
   "outputs": [],
   "source": []
  },
  {
   "cell_type": "code",
   "execution_count": null,
   "metadata": {},
   "outputs": [],
   "source": []
  }
 ],
 "metadata": {
  "kernelspec": {
   "display_name": "Python 3",
   "language": "python",
   "name": "python3"
  },
  "language_info": {
   "codemirror_mode": {
    "name": "ipython",
    "version": 3
   },
   "file_extension": ".py",
   "mimetype": "text/x-python",
   "name": "python",
   "nbconvert_exporter": "python",
   "pygments_lexer": "ipython3",
   "version": "3.6.4"
  }
 },
 "nbformat": 4,
 "nbformat_minor": 2
}
