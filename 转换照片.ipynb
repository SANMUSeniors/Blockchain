{
 "cells": [
  {
   "cell_type": "code",
   "execution_count": 2,
   "metadata": {},
   "outputs": [],
   "source": [
    "from PIL import Image,ImageDraw,ImageFont\n",
    "\n",
    "def pic2Text(_file,_text):\n",
    "\timg = Image.open(_file).convert(\"RGBA\")\n",
    "\tw = 100 #宽度固定\n",
    "\th = int((float(img.size[1])/float(img.size[0]))*w) #高度按比例得出\n",
    "\tfontSize = 20 #输出字体大小\n",
    "\timg.thumbnail((w,h)) #获取缩略图\n",
    "\tsrc = img.convert('L') #转换成灰度图\n",
    "\tminGrey = 255 #最小灰度\n",
    "\tmaxGrey = 0 #最大灰度\n",
    "\tgreyMap =  [[0 for col in range(h)] for row in range(w)] #灰度图 注意 w h\n",
    "\t#此处循环求得灰度表以及最大最小灰度值\n",
    "\tfor i in range(w):\n",
    "\t\tfor j in range(h):\n",
    "\t\t\tgreyMap[i][j] = src.getpixel((i,j)) #获取每一个点的灰度值\n",
    "\t\t\tif greyMap[i][j] > maxGrey: #获取最大灰度\n",
    "\t\t\t\tmaxGrey = greyMap[i][j]\n",
    "\t\t\tif greyMap[i][j] < minGrey: #获取最小灰度\n",
    "\t\t\t\tminGrey = greyMap[i][j]\n",
    "\t#计算灰度间隔\n",
    "\tgreyStep = (maxGrey - minGrey)/len(_text)\n",
    "\t#此处生成文字图片,注意输出的时候 w 和 h\n",
    "\toutput = Image.new('RGBA',(w*fontSize,h*fontSize),(255,255,255))\n",
    "\tdraw = ImageDraw.Draw(output)\n",
    "\tft = ImageFont.truetype(\"C:/Users/yt/Jupyter/msyhbd.ttf\",fontSize) #注意字体支持中文\n",
    "\tfor j in range(h):\n",
    "\t\tfor i in range(w):\n",
    "\t\t\tindex = int((greyMap[i][j] - minGrey)//greyStep) #计算出改点使用哪个字符\n",
    "\t\t\tif index >= len(_text):\n",
    "\t\t\t\tindex = len(_text) - 1  #注意尾最大灰度值，防止越界\n",
    "\t\t\tdraw.text((i*fontSize,j*fontSize),\"林彬加油哈！\",fill=img.getpixel((i,j)), font=ft) #汉字编码\n",
    "\toutput.save(_file.split('.')[0] + '_text.jpg','JPEG')\n",
    "if __name__ == '__main__':\n",
    "\ttextList = ['林','彬','加','油','哈','！']\n",
    "\tpic2Text('C:/Users/yt/Jupyter/test.png',textList)"
   ]
  },
  {
   "cell_type": "code",
   "execution_count": null,
   "metadata": {},
   "outputs": [],
   "source": []
  },
  {
   "cell_type": "code",
   "execution_count": null,
   "metadata": {},
   "outputs": [],
   "source": []
  }
 ],
 "metadata": {
  "kernelspec": {
   "display_name": "Python 3",
   "language": "python",
   "name": "python3"
  },
  "language_info": {
   "codemirror_mode": {
    "name": "ipython",
    "version": 3
   },
   "file_extension": ".py",
   "mimetype": "text/x-python",
   "name": "python",
   "nbconvert_exporter": "python",
   "pygments_lexer": "ipython3",
   "version": "3.6.4"
  }
 },
 "nbformat": 4,
 "nbformat_minor": 2
}
